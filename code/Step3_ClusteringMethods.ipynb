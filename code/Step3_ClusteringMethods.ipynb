{
 "cells": [
  {
   "cell_type": "code",
   "execution_count": 5,
   "metadata": {
    "collapsed": true
   },
   "outputs": [],
   "source": [
    "import csv\n",
    "import numpy as np\n",
    "reader = csv.reader(open(\"tfidf_mat.csv\", \"rb\"), delimiter=\" \")\n",
    "x = list(reader)\n",
    "xx = np.array(x).astype(\"float\")\n",
    "from sklearn.metrics.pairwise import cosine_similarity\n",
    "X = 1 - cosine_similarity(xx)"
   ]
  },
  {
   "cell_type": "code",
   "execution_count": 6,
   "metadata": {
    "collapsed": false
   },
   "outputs": [
    {
     "name": "stdout",
     "output_type": "stream",
     "text": [
      "('Damping:', 0.5)\n",
      "   Estimated number of clusters: 60\n",
      "   Silhouette Coefficient: 0.307\n",
      "   Calinski_Harabaz Coefficient: 26.833\n",
      "('Damping:', 0.55000000000000004)\n",
      "   Estimated number of clusters: 33\n",
      "   Silhouette Coefficient: 0.420\n",
      "   Calinski_Harabaz Coefficient: 56.420\n",
      "('Damping:', 0.60000000000000009)\n",
      "   Estimated number of clusters: 33\n",
      "   Silhouette Coefficient: 0.420\n",
      "   Calinski_Harabaz Coefficient: 56.420\n",
      "('Damping:', 0.65000000000000013)\n",
      "   Estimated number of clusters: 33\n",
      "   Silhouette Coefficient: 0.420\n",
      "   Calinski_Harabaz Coefficient: 56.420\n",
      "('Damping:', 0.70000000000000018)\n",
      "   Estimated number of clusters: 32\n",
      "   Silhouette Coefficient: 0.402\n",
      "   Calinski_Harabaz Coefficient: 54.982\n",
      "('Damping:', 0.75000000000000022)\n",
      "   Estimated number of clusters: 32\n",
      "   Silhouette Coefficient: 0.402\n",
      "   Calinski_Harabaz Coefficient: 54.982\n",
      "('Damping:', 0.80000000000000027)\n",
      "   Estimated number of clusters: 32\n",
      "   Silhouette Coefficient: 0.402\n",
      "   Calinski_Harabaz Coefficient: 54.982\n",
      "('Damping:', 0.85000000000000031)\n",
      "   Estimated number of clusters: 32\n",
      "   Silhouette Coefficient: 0.379\n",
      "   Calinski_Harabaz Coefficient: 52.718\n",
      "('Damping:', 0.90000000000000036)\n",
      "   Estimated number of clusters: 32\n",
      "   Silhouette Coefficient: 0.379\n",
      "   Calinski_Harabaz Coefficient: 52.718\n",
      "('Damping:', 0.9500000000000004)\n",
      "   Estimated number of clusters: 33\n",
      "   Silhouette Coefficient: 0.364\n",
      "   Calinski_Harabaz Coefficient: 50.526\n"
     ]
    }
   ],
   "source": [
    "from sklearn.cluster import AffinityPropagation\n",
    "from sklearn import metrics\n",
    "\n",
    "# Compute Affinity Propagation\n",
    "for damp in np.arange(0.5,1.0,0.05):\n",
    "    af = AffinityPropagation(damping=damp).fit(X)\n",
    "    cluster_centers_indices = af.cluster_centers_indices_\n",
    "    labels = af.labels_\n",
    "\n",
    "    n_clusters_ = len(cluster_centers_indices)\n",
    "    print('Damping:',damp)\n",
    "    print('   Estimated number of clusters: %d' % n_clusters_)\n",
    "    print(\"   Silhouette Coefficient: %0.3f\"\n",
    "        % metrics.silhouette_score(X, labels, metric='cosine'))\n",
    "    print(\"   Calinski_Harabaz Coefficient: %0.3f\"\n",
    "        % metrics.calinski_harabaz_score(X, labels))"
   ]
  },
  {
   "cell_type": "code",
   "execution_count": 7,
   "metadata": {
    "collapsed": false
   },
   "outputs": [
    {
     "name": "stdout",
     "output_type": "stream",
     "text": [
      "Counter({25: 28, 21: 21, 14: 20, 31: 18, 12: 16, 23: 12, 7: 9, 9: 9, 11: 9, 18: 9, 19: 8, 22: 7, 29: 7, 4: 6, 13: 6, 32: 6, 0: 5, 8: 5, 17: 5, 30: 5, 3: 4, 6: 4, 1: 3, 10: 3, 20: 3, 26: 3, 28: 3, 5: 2, 15: 2, 16: 2, 24: 2, 2: 1, 27: 1})\n",
      "[5, 3, 1, 4, 6, 2, 4, 9, 5, 9, 3, 9, 16, 6, 20, 2, 2, 5, 9, 8, 3, 21, 7, 12, 2, 28, 3, 1, 3, 7, 5, 18, 6]\n",
      "[0, 1, 2, 3, 4, 5, 6, 7, 8, 9, 10, 11, 12, 13, 14, 15, 16, 17, 18, 19, 20, 21, 22, 23, 24, 25, 26, 27, 28, 29, 30, 31, 32]\n",
      "[(25, 28), (21, 21), (14, 20), (31, 18), (12, 16), (23, 12), (7, 9), (9, 9), (11, 9), (18, 9), (19, 8), (22, 7), (29, 7), (4, 6), (13, 6), (32, 6), (0, 5), (8, 5), (17, 5), (30, 5), (3, 4), (6, 4), (1, 3), (10, 3), (20, 3), (26, 3), (28, 3), (5, 2), (15, 2), (16, 2), (24, 2), (2, 1), (27, 1)]\n"
     ]
    }
   ],
   "source": [
    "import collections\n",
    "a = labels\n",
    "counter=collections.Counter(a)\n",
    "print(counter)\n",
    "print(counter.values())\n",
    "print(counter.keys())\n",
    "print(counter.most_common(33))"
   ]
  },
  {
   "cell_type": "code",
   "execution_count": null,
   "metadata": {
    "collapsed": true
   },
   "outputs": [],
   "source": []
  }
 ],
 "metadata": {
  "kernelspec": {
   "display_name": "Python 2",
   "language": "python",
   "name": "python2"
  },
  "language_info": {
   "codemirror_mode": {
    "name": "ipython",
    "version": 2
   },
   "file_extension": ".py",
   "mimetype": "text/x-python",
   "name": "python",
   "nbconvert_exporter": "python",
   "pygments_lexer": "ipython2",
   "version": "2.7.13"
  }
 },
 "nbformat": 4,
 "nbformat_minor": 2
}
