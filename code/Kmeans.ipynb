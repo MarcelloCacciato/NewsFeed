{
 "cells": [
  {
   "cell_type": "code",
   "execution_count": 3,
   "metadata": {
    "collapsed": true
   },
   "outputs": [],
   "source": [
    "from sklearn.metrics import silhouette_score\n",
    "from sklearn.datasets import load_iris\n",
    "from sklearn.cluster import KMeans"
   ]
  },
  {
   "cell_type": "code",
   "execution_count": 4,
   "metadata": {
    "collapsed": true
   },
   "outputs": [],
   "source": [
    "X = load_iris().data\n",
    "y = load_iris().target"
   ]
  },
  {
   "cell_type": "code",
   "execution_count": 5,
   "metadata": {
    "collapsed": false
   },
   "outputs": [
    {
     "name": "stdout",
     "output_type": "stream",
     "text": [
      "For n_clusters=2, The Silhouette Coefficient is 0.680813620271\n",
      "For n_clusters=3, The Silhouette Coefficient is 0.552591944521\n",
      "For n_clusters=4, The Silhouette Coefficient is 0.497825690075\n",
      "For n_clusters=5, The Silhouette Coefficient is 0.492855591798\n",
      "For n_clusters=6, The Silhouette Coefficient is 0.366504014753\n",
      "For n_clusters=7, The Silhouette Coefficient is 0.329666110303\n",
      "For n_clusters=8, The Silhouette Coefficient is 0.342499568431\n",
      "For n_clusters=9, The Silhouette Coefficient is 0.358592888778\n",
      "For n_clusters=10, The Silhouette Coefficient is 0.321987033322\n"
     ]
    }
   ],
   "source": [
    "for n_cluster in range(2, 11):\n",
    "    kmeans = KMeans(n_clusters=n_cluster).fit(X)\n",
    "    label = kmeans.labels_\n",
    "    sil_coeff = silhouette_score(X, label, metric='euclidean')\n",
    "    print(\"For n_clusters={}, The Silhouette Coefficient is {}\".format(n_cluster, sil_coeff))"
   ]
  }
 ],
 "metadata": {
  "kernelspec": {
   "display_name": "Python 2",
   "language": "python",
   "name": "python2"
  },
  "language_info": {
   "codemirror_mode": {
    "name": "ipython",
    "version": 2
   },
   "file_extension": ".py",
   "mimetype": "text/x-python",
   "name": "python",
   "nbconvert_exporter": "python",
   "pygments_lexer": "ipython2",
   "version": "2.7.13"
  }
 },
 "nbformat": 4,
 "nbformat_minor": 2
}
