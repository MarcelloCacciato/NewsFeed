{
 "cells": [
  {
   "cell_type": "code",
   "execution_count": 18,
   "metadata": {
    "collapsed": true
   },
   "outputs": [],
   "source": [
    "import csv\n",
    "import numpy as np\n",
    "reader = csv.reader(open(\"tfidf_mat.csv\", \"rb\"), delimiter=\" \")\n",
    "x = list(reader)\n",
    "xx = np.array(x).astype(\"float\")\n",
    "from sklearn.metrics.pairwise import cosine_similarity\n",
    "X = 1 - cosine_similarity(xx)"
   ]
  },
  {
   "cell_type": "code",
   "execution_count": 28,
   "metadata": {
    "collapsed": false
   },
   "outputs": [
    {
     "name": "stdout",
     "output_type": "stream",
     "text": [
      "('Damping:', 0.5)\n",
      "   Estimated number of clusters: 60\n",
      "   Silhouette Coefficient: 0.307\n",
      "   Calinski_Harabaz Coefficient: 26.833\n",
      "('Damping:', 0.55000000000000004)\n",
      "   Estimated number of clusters: 33\n",
      "   Silhouette Coefficient: 0.420\n",
      "   Calinski_Harabaz Coefficient: 56.420\n",
      "('Damping:', 0.60000000000000009)\n",
      "   Estimated number of clusters: 33\n",
      "   Silhouette Coefficient: 0.420\n",
      "   Calinski_Harabaz Coefficient: 56.420\n",
      "('Damping:', 0.65000000000000013)\n",
      "   Estimated number of clusters: 33\n",
      "   Silhouette Coefficient: 0.420\n",
      "   Calinski_Harabaz Coefficient: 56.420\n",
      "('Damping:', 0.70000000000000018)\n",
      "   Estimated number of clusters: 32\n",
      "   Silhouette Coefficient: 0.402\n",
      "   Calinski_Harabaz Coefficient: 54.982\n",
      "('Damping:', 0.75000000000000022)\n",
      "   Estimated number of clusters: 32\n",
      "   Silhouette Coefficient: 0.402\n",
      "   Calinski_Harabaz Coefficient: 54.982\n",
      "('Damping:', 0.80000000000000027)\n",
      "   Estimated number of clusters: 32\n",
      "   Silhouette Coefficient: 0.402\n",
      "   Calinski_Harabaz Coefficient: 54.982\n",
      "('Damping:', 0.85000000000000031)\n",
      "   Estimated number of clusters: 32\n",
      "   Silhouette Coefficient: 0.379\n",
      "   Calinski_Harabaz Coefficient: 52.718\n",
      "('Damping:', 0.90000000000000036)\n",
      "   Estimated number of clusters: 32\n",
      "   Silhouette Coefficient: 0.379\n",
      "   Calinski_Harabaz Coefficient: 52.718\n",
      "('Damping:', 0.9500000000000004)\n",
      "   Estimated number of clusters: 33\n",
      "   Silhouette Coefficient: 0.364\n",
      "   Calinski_Harabaz Coefficient: 50.526\n"
     ]
    }
   ],
   "source": [
    "from sklearn.cluster import AffinityPropagation\n",
    "from sklearn import metrics\n",
    "\n",
    "# Compute Affinity Propagation\n",
    "for damp in np.arange(0.5,1.0,0.05):\n",
    "    af = AffinityPropagation(damping=damp).fit(X)\n",
    "    cluster_centers_indices = af.cluster_centers_indices_\n",
    "    labels = af.labels_\n",
    "\n",
    "    n_clusters_ = len(cluster_centers_indices)\n",
    "    print('Damping:',damp)\n",
    "    print('   Estimated number of clusters: %d' % n_clusters_)\n",
    "    print(\"   Silhouette Coefficient: %0.3f\"\n",
    "        % metrics.silhouette_score(X, labels, metric='cosine'))\n",
    "    print(\"   Calinski_Harabaz Coefficient: %0.3f\"\n",
    "        % metrics.calinski_harabaz_score(X, labels))"
   ]
  },
  {
   "cell_type": "code",
   "execution_count": 22,
   "metadata": {
    "collapsed": false
   },
   "outputs": [
    {
     "name": "stdout",
     "output_type": "stream",
     "text": [
      "('Damping:', 0.6)\n",
      "   Estimated number of clusters: 33\n",
      "   Silhouette Coefficient: 0.420\n",
      "   Calinski_Harabaz Coefficient: 56.420\n",
      "[ 0 11 23  3 15  1 16  2  0 12  3 24 24 31 19 11  8  1 12 24 19  0 20  4 31\n",
      " 11  0  8 19 19 19 18 31 31  5  5 24  7 22 22 22 22 22  6  7  0 31  8  8  3\n",
      " 27 18  2  3 20  9 11 10 10 13 12 12 12 11 11 12 12 13 12 13 13 13 13 12  9\n",
      " 14 14 14 14 14 14 14 14 14 14 14 14 14 14 14 14 14 14 14 14 15  1  2 11  4\n",
      " 23 11 27  3 11 16 16 17 17 17  3  0  2 23  0 19 18 20 23 21 18 19 24 20 24\n",
      " 23 24 19 19 20 20 21 22 20 22 18  7 22 21  7 22  7 22 22 23 24 23 22 24 24\n",
      " 24 12  9 27 20 25 27 27  8 26 11  0 26 26 26 26 26 26 26 26 26 26 26 26 26\n",
      " 26 26 26 26 26 26 26 26 26 26 26 26 26 26 22  6 22 22 22 22 22 22 27 27 31\n",
      " 22 27 27 27 25 31 29 31 29 29  4 31 28 29 31 32 29 29 24 27  5 32 31 30  7\n",
      " 30 28 22 30 30 22  7 31 32 30 31 31 28 32 32 31 32 31 29]\n"
     ]
    }
   ],
   "source": [
    "damp=0.6\n",
    "af = AffinityPropagation(damping=damp).fit(X)\n",
    "cluster_centers_indices = af.cluster_centers_indices_\n",
    "labels = af.labels_\n",
    "\n",
    "n_clusters_ = len(cluster_centers_indices)\n",
    "\n",
    "print labels"
   ]
  },
  {
   "cell_type": "code",
   "execution_count": 27,
   "metadata": {
    "collapsed": false
   },
   "outputs": [
    {
     "name": "stdout",
     "output_type": "stream",
     "text": [
      "Counter({26: 28, 22: 22, 14: 20, 31: 16, 24: 12, 27: 11, 11: 10, 12: 10, 19: 9, 0: 8, 20: 8, 7: 7, 23: 7, 29: 7, 3: 6, 13: 6, 32: 6, 8: 5, 18: 5, 30: 5, 2: 4, 1: 3, 4: 3, 5: 3, 9: 3, 16: 3, 17: 3, 21: 3, 28: 3, 6: 2, 10: 2, 15: 2, 25: 2})\n",
      "[8, 3, 4, 6, 3, 3, 2, 7, 5, 3, 2, 10, 10, 6, 20, 2, 3, 3, 5, 9, 8, 3, 22, 7, 12, 2, 28, 11, 3, 7, 5, 16, 6]\n",
      "[0, 1, 2, 3, 4, 5, 6, 7, 8, 9, 10, 11, 12, 13, 14, 15, 16, 17, 18, 19, 20, 21, 22, 23, 24, 25, 26, 27, 28, 29, 30, 31, 32]\n",
      "[(26, 28), (22, 22), (14, 20), (31, 16), (24, 12), (27, 11), (11, 10), (12, 10), (19, 9), (0, 8), (20, 8), (7, 7), (23, 7), (29, 7), (3, 6), (13, 6), (32, 6), (8, 5), (18, 5), (30, 5), (2, 4), (1, 3), (4, 3), (5, 3), (9, 3), (16, 3), (17, 3), (21, 3), (28, 3), (6, 2), (10, 2), (15, 2), (25, 2)]\n"
     ]
    }
   ],
   "source": [
    "import collections\n",
    "a = labels\n",
    "counter=collections.Counter(a)\n",
    "print(counter)\n",
    "# Counter({1: 4, 2: 4, 3: 2, 5: 2, 4: 1})\n",
    "print(counter.values())\n",
    "# [4, 4, 2, 1, 2]\n",
    "print(counter.keys())\n",
    "# [1, 2, 3, 4, 5]\n",
    "print(counter.most_common(33))\n",
    "# [(1, 4), (2, 4), (3, 2)]"
   ]
  },
  {
   "cell_type": "code",
   "execution_count": null,
   "metadata": {
    "collapsed": true
   },
   "outputs": [],
   "source": []
  },
  {
   "cell_type": "code",
   "execution_count": 3,
   "metadata": {
    "collapsed": false
   },
   "outputs": [
    {
     "name": "stdout",
     "output_type": "stream",
     "text": [
      "number of estimated clusters : 1\n"
     ]
    }
   ],
   "source": [
    "from sklearn.cluster import MeanShift, estimate_bandwidth\n",
    "# The following bandwidth can be automatically detected using\n",
    "bandwidth = estimate_bandwidth(X)\n",
    "#, quantile=0.2, n_samples=500)\n",
    "\n",
    "ms = MeanShift(bandwidth=bandwidth, bin_seeding=True)\n",
    "ms.fit(X)\n",
    "labels = ms.labels_\n",
    "cluster_centers = ms.cluster_centers_\n",
    "\n",
    "labels_unique = np.unique(labels)\n",
    "n_clusters_ = len(labels_unique)\n",
    "\n",
    "print(\"number of estimated clusters : %d\" % n_clusters_)"
   ]
  },
  {
   "cell_type": "code",
   "execution_count": null,
   "metadata": {
    "collapsed": true
   },
   "outputs": [],
   "source": [
    "from sklearn.cluster import spectral_clustering\n"
   ]
  },
  {
   "cell_type": "code",
   "execution_count": 7,
   "metadata": {
    "collapsed": false
   },
   "outputs": [
    {
     "name": "stdout",
     "output_type": "stream",
     "text": [
      "Estimated number of clusters: 1\n"
     ]
    },
    {
     "ename": "ValueError",
     "evalue": "Number of labels is 1. Valid values are 2 to n_samples - 1 (inclusive)",
     "output_type": "error",
     "traceback": [
      "\u001b[0;31m---------------------------------------------------------------------------\u001b[0m",
      "\u001b[0;31mValueError\u001b[0m                                Traceback (most recent call last)",
      "\u001b[0;32m<ipython-input-7-0c80024eb0ec>\u001b[0m in \u001b[0;36m<module>\u001b[0;34m()\u001b[0m\n\u001b[1;32m     54\u001b[0m     \u001b[0;32mprint\u001b[0m\u001b[0;34m(\u001b[0m\u001b[0;34m'Estimated number of clusters: %d'\u001b[0m \u001b[0;34m%\u001b[0m \u001b[0mn_clusters_\u001b[0m\u001b[0;34m)\u001b[0m\u001b[0;34m\u001b[0m\u001b[0m\n\u001b[1;32m     55\u001b[0m     print(\"Silhouette Coefficient: %0.3f\"\n\u001b[0;32m---> 56\u001b[0;31m       % metrics.silhouette_score(X, y_pred, metric='cosine'))\n\u001b[0m",
      "\u001b[0;32m/Users/marcello/anaconda/lib/python2.7/site-packages/sklearn/metrics/cluster/unsupervised.pyc\u001b[0m in \u001b[0;36msilhouette_score\u001b[0;34m(X, labels, metric, sample_size, random_state, **kwds)\u001b[0m\n\u001b[1;32m     98\u001b[0m         \u001b[0;32melse\u001b[0m\u001b[0;34m:\u001b[0m\u001b[0;34m\u001b[0m\u001b[0m\n\u001b[1;32m     99\u001b[0m             \u001b[0mX\u001b[0m\u001b[0;34m,\u001b[0m \u001b[0mlabels\u001b[0m \u001b[0;34m=\u001b[0m \u001b[0mX\u001b[0m\u001b[0;34m[\u001b[0m\u001b[0mindices\u001b[0m\u001b[0;34m]\u001b[0m\u001b[0;34m,\u001b[0m \u001b[0mlabels\u001b[0m\u001b[0;34m[\u001b[0m\u001b[0mindices\u001b[0m\u001b[0;34m]\u001b[0m\u001b[0;34m\u001b[0m\u001b[0m\n\u001b[0;32m--> 100\u001b[0;31m     \u001b[0;32mreturn\u001b[0m \u001b[0mnp\u001b[0m\u001b[0;34m.\u001b[0m\u001b[0mmean\u001b[0m\u001b[0;34m(\u001b[0m\u001b[0msilhouette_samples\u001b[0m\u001b[0;34m(\u001b[0m\u001b[0mX\u001b[0m\u001b[0;34m,\u001b[0m \u001b[0mlabels\u001b[0m\u001b[0;34m,\u001b[0m \u001b[0mmetric\u001b[0m\u001b[0;34m=\u001b[0m\u001b[0mmetric\u001b[0m\u001b[0;34m,\u001b[0m \u001b[0;34m**\u001b[0m\u001b[0mkwds\u001b[0m\u001b[0;34m)\u001b[0m\u001b[0;34m)\u001b[0m\u001b[0;34m\u001b[0m\u001b[0m\n\u001b[0m\u001b[1;32m    101\u001b[0m \u001b[0;34m\u001b[0m\u001b[0m\n\u001b[1;32m    102\u001b[0m \u001b[0;34m\u001b[0m\u001b[0m\n",
      "\u001b[0;32m/Users/marcello/anaconda/lib/python2.7/site-packages/sklearn/metrics/cluster/unsupervised.pyc\u001b[0m in \u001b[0;36msilhouette_samples\u001b[0;34m(X, labels, metric, **kwds)\u001b[0m\n\u001b[1;32m    164\u001b[0m     \u001b[0mle\u001b[0m \u001b[0;34m=\u001b[0m \u001b[0mLabelEncoder\u001b[0m\u001b[0;34m(\u001b[0m\u001b[0;34m)\u001b[0m\u001b[0;34m\u001b[0m\u001b[0m\n\u001b[1;32m    165\u001b[0m     \u001b[0mlabels\u001b[0m \u001b[0;34m=\u001b[0m \u001b[0mle\u001b[0m\u001b[0;34m.\u001b[0m\u001b[0mfit_transform\u001b[0m\u001b[0;34m(\u001b[0m\u001b[0mlabels\u001b[0m\u001b[0;34m)\u001b[0m\u001b[0;34m\u001b[0m\u001b[0m\n\u001b[0;32m--> 166\u001b[0;31m     \u001b[0mcheck_number_of_labels\u001b[0m\u001b[0;34m(\u001b[0m\u001b[0mlen\u001b[0m\u001b[0;34m(\u001b[0m\u001b[0mle\u001b[0m\u001b[0;34m.\u001b[0m\u001b[0mclasses_\u001b[0m\u001b[0;34m)\u001b[0m\u001b[0;34m,\u001b[0m \u001b[0mX\u001b[0m\u001b[0;34m.\u001b[0m\u001b[0mshape\u001b[0m\u001b[0;34m[\u001b[0m\u001b[0;36m0\u001b[0m\u001b[0;34m]\u001b[0m\u001b[0;34m)\u001b[0m\u001b[0;34m\u001b[0m\u001b[0m\n\u001b[0m\u001b[1;32m    167\u001b[0m \u001b[0;34m\u001b[0m\u001b[0m\n\u001b[1;32m    168\u001b[0m     \u001b[0mdistances\u001b[0m \u001b[0;34m=\u001b[0m \u001b[0mpairwise_distances\u001b[0m\u001b[0;34m(\u001b[0m\u001b[0mX\u001b[0m\u001b[0;34m,\u001b[0m \u001b[0mmetric\u001b[0m\u001b[0;34m=\u001b[0m\u001b[0mmetric\u001b[0m\u001b[0;34m,\u001b[0m \u001b[0;34m**\u001b[0m\u001b[0mkwds\u001b[0m\u001b[0;34m)\u001b[0m\u001b[0;34m\u001b[0m\u001b[0m\n",
      "\u001b[0;32m/Users/marcello/anaconda/lib/python2.7/site-packages/sklearn/metrics/cluster/unsupervised.pyc\u001b[0m in \u001b[0;36mcheck_number_of_labels\u001b[0;34m(n_labels, n_samples)\u001b[0m\n\u001b[1;32m     18\u001b[0m     \u001b[0;32mif\u001b[0m \u001b[0;32mnot\u001b[0m \u001b[0;36m1\u001b[0m \u001b[0;34m<\u001b[0m \u001b[0mn_labels\u001b[0m \u001b[0;34m<\u001b[0m \u001b[0mn_samples\u001b[0m\u001b[0;34m:\u001b[0m\u001b[0;34m\u001b[0m\u001b[0m\n\u001b[1;32m     19\u001b[0m         raise ValueError(\"Number of labels is %d. Valid values are 2 \"\n\u001b[0;32m---> 20\u001b[0;31m                          \"to n_samples - 1 (inclusive)\" % n_labels)\n\u001b[0m\u001b[1;32m     21\u001b[0m \u001b[0;34m\u001b[0m\u001b[0m\n\u001b[1;32m     22\u001b[0m \u001b[0;34m\u001b[0m\u001b[0m\n",
      "\u001b[0;31mValueError\u001b[0m: Number of labels is 1. Valid values are 2 to n_samples - 1 (inclusive)"
     ]
    }
   ],
   "source": [
    "from sklearn import cluster, datasets, mixture\n",
    "\n",
    "default_base = {'quantile': .3,\n",
    "                'eps': .3,\n",
    "                'damping': .9,\n",
    "                'preference': -200,\n",
    "                'n_neighbors': 10,\n",
    "                'n_clusters': 3}\n",
    "\n",
    "params = default_base.copy()\n",
    "# ============\n",
    "# Create cluster objects\n",
    "# ============\n",
    "    # estimate bandwidth for mean shift\n",
    "params['quantile'] = 0.3\n",
    "bandwidth = cluster.estimate_bandwidth(X, quantile=params['quantile'])\n",
    "ms = cluster.MeanShift(bandwidth=bandwidth, bin_seeding=True)\n",
    "    #two_means = cluster.MiniBatchKMeans(n_clusters=params['n_clusters'])\n",
    "    #ward = cluster.AgglomerativeClustering(\n",
    "        #n_clusters=params['n_clusters'], linkage='ward',\n",
    "        #connectivity=connectivity)\n",
    "    #spectral = cluster.SpectralClustering(\n",
    "        #n_clusters=params['n_clusters'], eigen_solver='arpack',\n",
    "        #affinity=\"nearest_neighbors\")\n",
    "params['eps']=0.3\n",
    "dbscan = cluster.DBSCAN(eps=params['eps'])\n",
    "    \n",
    "params['damping']=0.9\n",
    "params['preference'] = -200\n",
    "affinity_propagation = cluster.AffinityPropagation(damping=params['damping'], preference=params['preference'])\n",
    "    #average_linkage = cluster.AgglomerativeClustering(\n",
    "        #linkage=\"average\", affinity=\"cityblock\",\n",
    "        #n_clusters=params['n_clusters'], connectivity=connectivity)\n",
    "    #birch = cluster.Birch(n_clusters=params['n_clusters'])\n",
    "    #gmm = mixture.GaussianMixture(\n",
    "        #n_components=params['n_clusters'], covariance_type='full')\n",
    "\n",
    "clustering_algorithms = (\n",
    "        #('MiniBatchKMeans', two_means),\n",
    "    ('AffinityPropagation', affinity_propagation),\n",
    "    ('MeanShift', ms)\n",
    "        #,\n",
    "        #('SpectralClustering', spectral),\n",
    "        #('Ward', ward),\n",
    "        #('AgglomerativeClustering', average_linkage),\n",
    "        #('DBSCAN', dbscan)\n",
    "        #,\n",
    "        #('Birch', birch),\n",
    "        #('GaussianMixture', gmm)\n",
    ")\n",
    "for name, algorithm in clustering_algorithms:\n",
    "    algorithm.fit(X)\n",
    "    y_pred = algorithm.predict(X)\n",
    "    print('Estimated number of clusters: %d' % n_clusters_)\n",
    "    print(\"Silhouette Coefficient: %0.3f\"\n",
    "      % metrics.silhouette_score(X, y_pred, metric='cosine'))\n"
   ]
  },
  {
   "cell_type": "code",
   "execution_count": 22,
   "metadata": {
    "collapsed": false
   },
   "outputs": [
    {
     "ename": "NameError",
     "evalue": "name 'DBSCAN' is not defined",
     "output_type": "error",
     "traceback": [
      "\u001b[0;31m---------------------------------------------------------------------------\u001b[0m",
      "\u001b[0;31mNameError\u001b[0m                                 Traceback (most recent call last)",
      "\u001b[0;32m<ipython-input-22-bf19c5206821>\u001b[0m in \u001b[0;36m<module>\u001b[0;34m()\u001b[0m\n\u001b[0;32m----> 1\u001b[0;31m \u001b[0mdb\u001b[0m \u001b[0;34m=\u001b[0m \u001b[0mDBSCAN\u001b[0m\u001b[0;34m(\u001b[0m\u001b[0meps\u001b[0m\u001b[0;34m=\u001b[0m\u001b[0;36m0.3\u001b[0m\u001b[0;34m,\u001b[0m \u001b[0mmin_samples\u001b[0m\u001b[0;34m=\u001b[0m\u001b[0;36m10\u001b[0m\u001b[0;34m)\u001b[0m\u001b[0;34m.\u001b[0m\u001b[0mfit\u001b[0m\u001b[0;34m(\u001b[0m\u001b[0mX\u001b[0m\u001b[0;34m)\u001b[0m\u001b[0;34m\u001b[0m\u001b[0m\n\u001b[0m",
      "\u001b[0;31mNameError\u001b[0m: name 'DBSCAN' is not defined"
     ]
    }
   ],
   "source": [
    "db = DBSCAN(eps=0.3, min_samples=10).fit(X)"
   ]
  }
 ],
 "metadata": {
  "kernelspec": {
   "display_name": "Python 2",
   "language": "python",
   "name": "python2"
  },
  "language_info": {
   "codemirror_mode": {
    "name": "ipython",
    "version": 2
   },
   "file_extension": ".py",
   "mimetype": "text/x-python",
   "name": "python",
   "nbconvert_exporter": "python",
   "pygments_lexer": "ipython2",
   "version": "2.7.13"
  }
 },
 "nbformat": 4,
 "nbformat_minor": 2
}
