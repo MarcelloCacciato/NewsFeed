{
 "cells": [
  {
   "cell_type": "code",
   "execution_count": null,
   "metadata": {
    "collapsed": true
   },
   "outputs": [],
   "source": []
  },
  {
   "cell_type": "code",
   "execution_count": 38,
   "metadata": {
    "collapsed": false
   },
   "outputs": [
    {
     "name": "stdout",
     "output_type": "stream",
     "text": [
      "[('uthe', 6675), ('uto', 3176), ('uof', 2846), ('uand', 2540), ('ua', 2474), ('uin', 2448), ('uon', 1342), ('uis', 1286), ('ufor', 1105), ('us', 1013)]\n",
      "[('the', 6675), ('to', 3176), ('of', 2846), ('and', 2540), ('a', 2474), ('in', 2448), ('on', 1342), ('is', 1286), ('for', 1105), ('that', 1013)]\n"
     ]
    }
   ],
   "source": [
    "import nltk\n",
    "import string\n",
    "\n",
    "from collections import Counter\n",
    "\n",
    "def get_tokens():\n",
    "   with open('tokenized_stems.csv', 'r') as shakes:\n",
    "    text = shakes.read()\n",
    "    lowers = text.lower()\n",
    "    #remove the punctuation using the character deletion step of translate\n",
    "    no_punctuation = lowers.translate(None, string.punctuation)\n",
    "    no_apos = no_punctuation.translate(None, \"'\")\n",
    "    tokens = nltk.word_tokenize(no_apos)\n",
    "    return tokens\n",
    "\n",
    "tokens = get_tokens()\n",
    "count = Counter(tokens)\n",
    "for i in range(115771):\n",
    "    tokens[i]=tokens[i][1:]\n",
    "count2 = Counter(tokens)\n",
    "#print count.most_common(10)\n",
    "print count2.most_common(10)\n"
   ]
  },
  {
   "cell_type": "code",
   "execution_count": 39,
   "metadata": {
    "collapsed": false
   },
   "outputs": [
    {
     "name": "stdout",
     "output_type": "stream",
     "text": [
      "[('said', 638), ('say', 385), ('peopl', 282), ('time', 266), ('also', 264), ('get', 261), ('year', 260), ('india', 257), ('one', 249), ('news', 241)]\n"
     ]
    }
   ],
   "source": [
    "from nltk.corpus import stopwords\n",
    "\n",
    "filtered = [w for w in tokens if not w in stopwords.words('english')]\n",
    "count = Counter(filtered)\n",
    "print count.most_common(10)"
   ]
  }
 ],
 "metadata": {
  "kernelspec": {
   "display_name": "Python 2",
   "language": "python",
   "name": "python2"
  },
  "language_info": {
   "codemirror_mode": {
    "name": "ipython",
    "version": 2
   },
   "file_extension": ".py",
   "mimetype": "text/x-python",
   "name": "python",
   "nbconvert_exporter": "python",
   "pygments_lexer": "ipython2",
   "version": "2.7.13"
  }
 },
 "nbformat": 4,
 "nbformat_minor": 2
}
