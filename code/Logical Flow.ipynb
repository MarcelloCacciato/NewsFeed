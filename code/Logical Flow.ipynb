{
 "cells": [
  {
   "cell_type": "code",
   "execution_count": 1,
   "metadata": {
    "collapsed": true
   },
   "outputs": [],
   "source": [
    "# Logical flow of the minimal algorithm I want to present\n",
    "\n",
    "# Assignment: \n",
    "# Our client wants to build a mechanism where similar articles are grouped together based on their relevancy.\n",
    "# So for a corpus of articles, device a clustering model that groups similar articles together. \n",
    "# Given that the volume of the news is going to increase manifold, make sure that the solution is scalable."
   ]
  },
  {
   "cell_type": "code",
   "execution_count": null,
   "metadata": {
    "collapsed": true
   },
   "outputs": [],
   "source": [
    "# Main Approach: clustering based on the tf_idf matrix and SVM"
   ]
  },
  {
   "cell_type": "code",
   "execution_count": null,
   "metadata": {
    "collapsed": true
   },
   "outputs": [],
   "source": [
    "'''\n",
    "   # mention and show how you clean the data set \n",
    "   # before feeding it to tf_idf (tokenizer, stemmer)\n",
    "   # comment on the tf_idf parameters (max_df, max_features,min_df=0.01, stop_words='english', ngram_range)"
   ]
  },
  {
   "cell_type": "code",
   "execution_count": null,
   "metadata": {
    "collapsed": true
   },
   "outputs": [],
   "source": [
    "'''\n",
    "   # mention and show why you picked SVM\n",
    "   # perform a grid search where you assess how some relevant metrics change as parameters changes"
   ]
  },
  {
   "cell_type": "code",
   "execution_count": null,
   "metadata": {
    "collapsed": true
   },
   "outputs": [],
   "source": [
    "'''\n",
    "   # show the main result: classification of the articles given the choice made in the steps above\n",
    "   # show a few examples of the articles that belong to different groups and see if they really differ"
   ]
  },
  {
   "cell_type": "code",
   "execution_count": null,
   "metadata": {
    "collapsed": true
   },
   "outputs": [],
   "source": [
    "# Supplementary Material:"
   ]
  },
  {
   "cell_type": "code",
   "execution_count": null,
   "metadata": {
    "collapsed": true
   },
   "outputs": [],
   "source": [
    "'''\n",
    "   1 - show results obtained using titles only, description only, text only, (and all three of them ?)\n",
    "   [find a way to compare classifications] "
   ]
  },
  {
   "cell_type": "code",
   "execution_count": null,
   "metadata": {
    "collapsed": true
   },
   "outputs": [],
   "source": [
    "'''\n",
    "   2 - sort of scalability test. Apply the main analysis to 100, 150 and 244 (all) articles "
   ]
  },
  {
   "cell_type": "code",
   "execution_count": null,
   "metadata": {
    "collapsed": true
   },
   "outputs": [],
   "source": [
    "# Discussion and Future Improvements"
   ]
  },
  {
   "cell_type": "code",
   "execution_count": null,
   "metadata": {
    "collapsed": true
   },
   "outputs": [],
   "source": [
    "'''\n",
    "   A - use a large dataset (~10'000 articles) to apply supervised ml using the Reuters dataset "
   ]
  },
  {
   "cell_type": "code",
   "execution_count": null,
   "metadata": {
    "collapsed": true
   },
   "outputs": [],
   "source": [
    "'''\n",
    "   B - use the Reuters dataset ignoring the classification, apply main method to 250, 2500, 5000, 10'000 articles \n",
    "   how does the algorithm behave? is the number of categories robust? \n",
    "   if I impose to Reuters the same number of categories as I found in my dataset, \n",
    "   do articles in similar groups actually talk about similar topics ?  "
   ]
  },
  {
   "cell_type": "code",
   "execution_count": null,
   "metadata": {
    "collapsed": true
   },
   "outputs": [],
   "source": [
    "'''\n",
    "   C - mention latent dirichlet and multi-classification"
   ]
  },
  {
   "cell_type": "code",
   "execution_count": null,
   "metadata": {
    "collapsed": true
   },
   "outputs": [],
   "source": [
    "# use SUPERVISED MACHINE LEARNING"
   ]
  },
  {
   "cell_type": "code",
   "execution_count": null,
   "metadata": {
    "collapsed": true
   },
   "outputs": [],
   "source": [
    "# use reuters corpora for training (and testing) purpose\n",
    "# 10788 documents\n",
    "# 7769 total train documents\n",
    "# 3019 total test documents\n",
    "# 90 categories\n",
    "    # group categories somehow (remember the ydatalytics dataset is only 244 articles and 90 categories might be too much)\n",
    "    # "
   ]
  },
  {
   "cell_type": "code",
   "execution_count": null,
   "metadata": {
    "collapsed": true
   },
   "outputs": [],
   "source": [
    "# apply tokenizer and stemmer"
   ]
  },
  {
   "cell_type": "code",
   "execution_count": null,
   "metadata": {
    "collapsed": true
   },
   "outputs": [],
   "source": [
    "#create tf_idf matrix"
   ]
  },
  {
   "cell_type": "code",
   "execution_count": null,
   "metadata": {
    "collapsed": true
   },
   "outputs": [],
   "source": [
    "# run a classifier on the train dataset, look at th results in terms of the f1_score,precision_score,recall_score"
   ]
  },
  {
   "cell_type": "code",
   "execution_count": null,
   "metadata": {
    "collapsed": true
   },
   "outputs": [],
   "source": [
    "# run a grid search on the parameters of the classifier used above \n",
    "# and see if f1_score,precision_score,recall_score improve"
   ]
  }
 ],
 "metadata": {
  "kernelspec": {
   "display_name": "Python 2",
   "language": "python",
   "name": "python2"
  },
  "language_info": {
   "codemirror_mode": {
    "name": "ipython",
    "version": 2
   },
   "file_extension": ".py",
   "mimetype": "text/x-python",
   "name": "python",
   "nbconvert_exporter": "python",
   "pygments_lexer": "ipython2",
   "version": "2.7.13"
  }
 },
 "nbformat": 4,
 "nbformat_minor": 2
}
