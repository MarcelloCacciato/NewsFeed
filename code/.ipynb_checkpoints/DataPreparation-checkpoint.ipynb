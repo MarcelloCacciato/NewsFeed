{
 "cells": [
  {
   "cell_type": "code",
   "execution_count": 1,
   "metadata": {
    "collapsed": true
   },
   "outputs": [],
   "source": [
    "import numpy as np\n",
    "import pandas as pd\n",
    "import nltk\n",
    "from bs4 import BeautifulSoup\n",
    "import re\n",
    "import os\n",
    "import codecs\n",
    "from sklearn import feature_extraction\n",
    "import mpld3"
   ]
  },
  {
   "cell_type": "code",
   "execution_count": 2,
   "metadata": {
    "collapsed": true
   },
   "outputs": [],
   "source": [
    "filepath_or_buffer = '../data/articles.csv'"
   ]
  },
  {
   "cell_type": "code",
   "execution_count": 3,
   "metadata": {
    "collapsed": false
   },
   "outputs": [
    {
     "name": "stdout",
     "output_type": "stream",
     "text": [
      "number of articles:  244\n"
     ]
    }
   ],
   "source": [
    "#import a data frame with 4 columns: orders, titles, descriptions, and articles\n",
    "df = pd.read_csv(filepath_or_buffer)\n",
    "print \"number of articles: \",df.shape[0]"
   ]
  },
  {
   "cell_type": "code",
   "execution_count": 4,
   "metadata": {
    "collapsed": false
   },
   "outputs": [
    {
     "name": "stdout",
     "output_type": "stream",
     "text": [
      "['Unnamed: 0', 'title', 'description', 'feed_article']\n"
     ]
    }
   ],
   "source": [
    "header_df = list(df)\n",
    "print header_df"
   ]
  },
  {
   "cell_type": "code",
   "execution_count": 5,
   "metadata": {
    "collapsed": false
   },
   "outputs": [
    {
     "name": "stdout",
     "output_type": "stream",
     "text": [
      "244 Unnamed: 0\n",
      "244 title\n",
      "244 description\n",
      "244 feed_article\n"
     ]
    }
   ],
   "source": [
    "for i in range(0,df.shape[1]):\n",
    "    print len(df[str(header_df[i])]), header_df[i]\n",
    "    if(len(df[str(header_df[i])]) != df.shape[0]):\n",
    "        print \"problem with number of rows in column\",header_df[i]"
   ]
  },
  {
   "cell_type": "code",
   "execution_count": 6,
   "metadata": {
    "collapsed": true
   },
   "outputs": [],
   "source": [
    "# load nltk's English stopwords as variable called 'stopwords'\n",
    "stopwords = nltk.corpus.stopwords.words('english')"
   ]
  },
  {
   "cell_type": "code",
   "execution_count": 7,
   "metadata": {
    "collapsed": true
   },
   "outputs": [],
   "source": [
    "# load nltk's SnowballStemmer as variabled 'stemmer'\n",
    "from nltk.stem.snowball import SnowballStemmer\n",
    "stemmer = SnowballStemmer(\"english\")"
   ]
  },
  {
   "cell_type": "code",
   "execution_count": 8,
   "metadata": {
    "collapsed": true
   },
   "outputs": [],
   "source": [
    "# here I define a tokenizer and stemmer which returns the set of stems in the text that it is passed\n",
    "\n",
    "def tokenize_and_stem(text):\n",
    "    # first tokenize by sentence, then by word to ensure that punctuation is caught as it's own token\n",
    "    tokens = [word for sent in nltk.sent_tokenize(text) for word in nltk.word_tokenize(sent)]\n",
    "    filtered_tokens = []\n",
    "    # filter out any tokens not containing letters (e.g., numeric tokens, raw punctuation)\n",
    "    for token in tokens:\n",
    "        if re.search('[a-zA-Z]', token):\n",
    "            filtered_tokens.append(token)\n",
    "    stems = [stemmer.stem(t) for t in filtered_tokens]\n",
    "    return stems\n",
    "\n",
    "\n",
    "def tokenize_only(text):\n",
    "    # first tokenize by sentence, then by word to ensure that punctuation is caught as it's own token\n",
    "    tokens = [word.lower() for sent in nltk.sent_tokenize(text) for word in nltk.word_tokenize(sent)]\n",
    "    filtered_tokens = []\n",
    "    # filter out any tokens not containing letters (e.g., numeric tokens, raw punctuation)\n",
    "    for token in tokens:\n",
    "        if re.search('[a-zA-Z]', token):\n",
    "            filtered_tokens.append(token)\n",
    "    return filtered_tokens"
   ]
  },
  {
   "cell_type": "code",
   "execution_count": 9,
   "metadata": {
    "collapsed": true
   },
   "outputs": [],
   "source": [
    "synopses_des = df['description']\n",
    "synopses_feed = df['feed_article']\n",
    "synopses_clean = []\n",
    "'''\n",
    "using only description:\n",
    "for text in synopses_des:\n",
    "    text = BeautifulSoup(text, 'html.parser').getText()\n",
    "    #strips html formatting and converts to unicode\n",
    "    synopses_clean.append(text)\n",
    "synopses_des = synopses_clean\n",
    "'''\n",
    "# using entire feed_article:\n",
    "for text in synopses_feed:\n",
    "    text = BeautifulSoup(text, 'html.parser').getText()\n",
    "    #strips html formatting and converts to unicode\n",
    "    synopses_clean.append(text)\n",
    "synopses_feed = synopses_clean \n"
   ]
  },
  {
   "cell_type": "code",
   "execution_count": 10,
   "metadata": {
    "collapsed": false
   },
   "outputs": [],
   "source": [
    "'''\n",
    "# I do this analyses on the description only!\n",
    "des_vocab_stemmed = []\n",
    "des_vocab_tokenized = []\n",
    "for i in synopses_des:\n",
    "    des_words_stemmed = tokenize_and_stem(i)\n",
    "    des_vocab_stemmed.extend(des_words_stemmed)\n",
    "    \n",
    "    des_words_tokenized = tokenize_only(i)\n",
    "    des_vocab_tokenized.extend(des_words_tokenized)\n",
    "'''\n",
    "#while this is done on the entire feed article\n",
    "feed_vocab_stemmed = []\n",
    "feed_vocab_tokenized = []\n",
    "for i in synopses_feed:\n",
    "    feed_words_stemmed = tokenize_and_stem(i)\n",
    "    feed_vocab_stemmed.extend(feed_words_stemmed)\n",
    "    \n",
    "    feed_words_tokenized = tokenize_only(i)\n",
    "    feed_vocab_tokenized.extend(feed_words_tokenized)"
   ]
  },
  {
   "cell_type": "code",
   "execution_count": 35,
   "metadata": {
    "collapsed": false
   },
   "outputs": [
    {
     "name": "stdout",
     "output_type": "stream",
     "text": [
      "                      words\n",
      "kurdish             kurdish\n",
      "forc                 forces\n",
      "in                       in\n",
      "northern           northern\n",
      "iraq                   iraq\n",
      "say                     say\n",
      "they                   they\n",
      "have                   have\n",
      "broken               broken\n",
      "islam               islamic\n",
      "state                 state\n",
      "'s                       's\n",
      "sieg                  siege\n",
      "of                       of\n",
      "mount                 mount\n",
      "sinjar               sinjar\n",
      "claim              claiming\n",
      "their                 their\n",
      "biggest             biggest\n",
      "victori             victory\n",
      "yet                     yet\n",
      "against             against\n",
      "the                     the\n",
      "milit             militants\n",
      "eight                 eight\n",
      "children           children\n",
      "are                     are\n",
      "found                 found\n",
      "dead                   dead\n",
      "at                       at\n",
      "...                     ...\n",
      "to                       to\n",
      "help                   help\n",
      "prevent             prevent\n",
      "suicid              suicide\n",
      "whi                     why\n",
      "the                     the\n",
      "nhs                     nhs\n",
      "should               should\n",
      "listen               listen\n",
      "to                       to\n",
      "citizen            'citizen\n",
      "whistleblow  whistleblowers\n",
      "how                     how\n",
      "the                     the\n",
      "brain                 brain\n",
      "is                       is\n",
      "protect           protected\n",
      "and                     and\n",
      "injur               injured\n",
      "is                       is\n",
      "it                       it\n",
      "true                   true\n",
      "that                   that\n",
      "one                     one\n",
      "in                       in\n",
      "three                 three\n",
      "us                       us\n",
      "teenag            teenagers\n",
      "get                    gets\n",
      "pregnant           pregnant\n",
      "\n",
      "[5212 rows x 1 columns]\n"
     ]
    }
   ],
   "source": [
    "#only on description:\n",
    "#des_vocab_frame = pd.DataFrame({'words': des_vocab_tokenized}, index = des_vocab_stemmed)\n",
    "#print des_vocab_frame"
   ]
  },
  {
   "cell_type": "code",
   "execution_count": 11,
   "metadata": {
    "collapsed": false
   },
   "outputs": [
    {
     "name": "stdout",
     "output_type": "stream",
     "text": [
      "               words\n",
      "mount          mount\n",
      "sinjar        sinjar\n",
      "islam        islamic\n",
      "state          state\n",
      "sieg           siege\n",
      "broken        broken\n",
      "say              say\n",
      "kurd           kurds\n",
      "kurdish      kurdish\n",
      "secur       security\n",
      "forc          forces\n",
      "have            have\n",
      "been            been\n",
      "tri           trying\n",
      "to                to\n",
      "stem            stem\n",
      "the              the\n",
      "is                is\n",
      "advanc       advance\n",
      "across        across\n",
      "iraq            iraq\n",
      "'s                's\n",
      "northern    northern\n",
      "nineveh      nineveh\n",
      "provinc     province\n",
      "what            what\n",
      "the              the\n",
      "kassig        kassig\n",
      "video          video\n",
      "tell           tells\n",
      "...              ...\n",
      "citi            city\n",
      "govern    government\n",
      "in                in\n",
      "china          china\n",
      "has              has\n",
      "been            been\n",
      "use            using\n",
      "secur       security\n",
      "guard         guards\n",
      "to                to\n",
      "pose            pose\n",
      "as                as\n",
      "polic         police\n",
      "offic       officers\n",
      "share          share\n",
      "this            this\n",
      "page            page\n",
      "did              did\n",
      "vladimir    vladimir\n",
      "putin          putin\n",
      "gambl         gamble\n",
      "on                on\n",
      "high            high\n",
      "oil              oil\n",
      "price         prices\n",
      "last         lasting\n",
      "for              for\n",
      "ever            ever\n",
      "most            most\n",
      "popular      popular\n",
      "\n",
      "[115772 rows x 1 columns]\n"
     ]
    }
   ],
   "source": [
    "#on entire feed article:\n",
    "feed_vocab_frame = pd.DataFrame({'words': feed_vocab_tokenized}, index = feed_vocab_stemmed)\n",
    "print(feed_vocab_frame)\n",
    "#print feed_vocab_frame"
   ]
  },
  {
   "cell_type": "code",
   "execution_count": 12,
   "metadata": {
    "collapsed": false
   },
   "outputs": [
    {
     "name": "stdout",
     "output_type": "stream",
     "text": [
      "CPU times: user 8.22 s, sys: 127 ms, total: 8.35 s\n",
      "Wall time: 9.42 s\n",
      "(244, 101677)\n"
     ]
    }
   ],
   "source": [
    "from sklearn.feature_extraction.text import TfidfVectorizer\n",
    "\n",
    "tfidf_vectorizer = TfidfVectorizer(max_df=0.8, max_features=200000,\n",
    "                                 min_df=0.0, stop_words='english',\n",
    "                                 use_idf=True, tokenizer=tokenize_and_stem, ngram_range=(1,3))\n",
    "\n",
    "#%time tfidf_matrix = tfidf_vectorizer.fit_transform(synopses_des)\n",
    "%time tfidf_matrix = tfidf_vectorizer.fit_transform(synopses_feed)\n",
    "print(tfidf_matrix.shape)"
   ]
  },
  {
   "cell_type": "code",
   "execution_count": 13,
   "metadata": {
    "collapsed": true
   },
   "outputs": [],
   "source": [
    "terms = tfidf_vectorizer.get_feature_names()"
   ]
  },
  {
   "cell_type": "code",
   "execution_count": 14,
   "metadata": {
    "collapsed": false
   },
   "outputs": [
    {
     "name": "stdout",
     "output_type": "stream",
     "text": [
      "[[ -7.54951657e-15   9.83564490e-01   9.73350536e-01 ...,   9.90149899e-01\n",
      "    9.84399938e-01   9.87991100e-01]\n",
      " [  9.83564490e-01   1.77635684e-15   9.83946700e-01 ...,   9.79422461e-01\n",
      "    9.83525713e-01   9.80892001e-01]\n",
      " [  9.73350536e-01   9.83946700e-01  -5.10702591e-15 ...,   9.88651483e-01\n",
      "    9.93695120e-01   9.86228759e-01]\n",
      " ..., \n",
      " [  9.90149899e-01   9.79422461e-01   9.88651483e-01 ...,  -5.77315973e-15\n",
      "    9.87555460e-01   9.83177645e-01]\n",
      " [  9.84399938e-01   9.83525713e-01   9.93695120e-01 ...,   9.87555460e-01\n",
      "   -5.77315973e-15   9.90583166e-01]\n",
      " [  9.87991100e-01   9.80892001e-01   9.86228759e-01 ...,   9.83177645e-01\n",
      "    9.90583166e-01   6.99440506e-15]]\n"
     ]
    }
   ],
   "source": [
    "from sklearn.metrics.pairwise import cosine_similarity\n",
    "dist = 1 - cosine_similarity(tfidf_matrix)\n",
    "print(dist)"
   ]
  },
  {
   "cell_type": "code",
   "execution_count": 15,
   "metadata": {
    "collapsed": false
   },
   "outputs": [
    {
     "data": {
      "image/png": "[encoded data removed]",
      "text/plain": [
       "<matplotlib.figure.Figure at 0x113b16a10>"
      ]
     },
     "metadata": {},
     "output_type": "display_data"
    }
   ],
   "source": [
    "import matplotlib.pyplot as plt\n",
    "# Display matrix\n",
    "plt.matshow(dist.reshape((244, 244)))\n",
    "\n",
    "plt.show()"
   ]
  },
  {
   "cell_type": "code",
   "execution_count": 16,
   "metadata": {
    "collapsed": false
   },
   "outputs": [
    {
     "name": "stdout",
     "output_type": "stream",
     "text": [
      "[[ 0.  0.  0. ...,  0.  0.  0.]\n",
      " [ 0.  0.  0. ...,  0.  0.  0.]\n",
      " [ 0.  0.  0. ...,  0.  0.  0.]\n",
      " ..., \n",
      " [ 0.  0.  0. ...,  0.  0.  0.]\n",
      " [ 0.  0.  0. ...,  0.  0.  0.]\n",
      " [ 0.  0.  0. ...,  0.  0.  0.]]\n"
     ]
    }
   ],
   "source": [
    "tfidf_mat = tfidf_matrix.toarray()\n",
    "print tfidf_mat"
   ]
  },
  {
   "cell_type": "code",
   "execution_count": 19,
   "metadata": {
    "collapsed": false
   },
   "outputs": [
    {
     "name": "stdout",
     "output_type": "stream",
     "text": [
      "For n_clusters=2, The Silhouette Coefficient is 0.0647697547551\n",
      "For n_clusters=3, The Silhouette Coefficient is 0.0816382579041\n",
      "For n_clusters=4, The Silhouette Coefficient is 0.082505719029\n",
      "For n_clusters=5, The Silhouette Coefficient is 0.0876654140304\n",
      "For n_clusters=6, The Silhouette Coefficient is 0.0842185036576\n",
      "For n_clusters=7, The Silhouette Coefficient is 0.0904324692698\n",
      "For n_clusters=8, The Silhouette Coefficient is 0.0911178428797\n",
      "For n_clusters=9, The Silhouette Coefficient is 0.0924927580669\n",
      "For n_clusters=10, The Silhouette Coefficient is 0.0938109691558\n"
     ]
    }
   ],
   "source": [
    "from sklearn.cluster import KMeans\n",
    "from sklearn.metrics import silhouette_score\n",
    "\n",
    "X = tfidf_mat\n",
    "for n_cluster in range(2, 11):\n",
    "    kmeans = KMeans(n_clusters=n_cluster).fit(X)\n",
    "    label = kmeans.labels_\n",
    "    sil_coeff = silhouette_score(X, label, metric='euclidean')\n",
    "    print(\"For n_clusters={}, The Silhouette Coefficient is {}\".format(n_cluster, sil_coeff))"
   ]
  },
  {
   "cell_type": "code",
   "execution_count": 20,
   "metadata": {
    "collapsed": false
   },
   "outputs": [
    {
     "name": "stdout",
     "output_type": "stream",
     "text": [
      "For n_clusters=11, The Silhouette Coefficient is 0.0942210461709\n",
      "For n_clusters=12, The Silhouette Coefficient is 0.098432424767\n",
      "For n_clusters=13, The Silhouette Coefficient is 0.0956805244829\n",
      "For n_clusters=14, The Silhouette Coefficient is 0.0843874621692\n",
      "For n_clusters=15, The Silhouette Coefficient is 0.0845391837814\n",
      "For n_clusters=16, The Silhouette Coefficient is 0.0989484291191\n",
      "For n_clusters=17, The Silhouette Coefficient is 0.101404116719\n",
      "For n_clusters=18, The Silhouette Coefficient is 0.105477824951\n",
      "For n_clusters=19, The Silhouette Coefficient is 0.0925165904434\n",
      "For n_clusters=20, The Silhouette Coefficient is 0.0879578883781\n"
     ]
    }
   ],
   "source": [
    "for n_cluster in range(11, 21):\n",
    "    kmeans = KMeans(n_clusters=n_cluster).fit(X)\n",
    "    label = kmeans.labels_\n",
    "    sil_coeff = silhouette_score(X, label, metric='euclidean')\n",
    "    print(\"For n_clusters={}, The Silhouette Coefficient is {}\".format(n_cluster, sil_coeff))"
   ]
  },
  {
   "cell_type": "code",
   "execution_count": 22,
   "metadata": {
    "collapsed": false
   },
   "outputs": [],
   "source": [
    "# k means determine k\n",
    "from scipy.spatial.distance import cdist\n",
    "distortions = []\n",
    "K = range(1,10)\n",
    "for k in K:\n",
    "    kmeanModel = KMeans(n_clusters=k).fit(X)\n",
    "    kmeanModel.fit(X)\n",
    "    distortions.append(sum(np.min(cdist(X, kmeanModel.cluster_centers_, 'euclidean'), axis=1)) / X.shape[0])"
   ]
  },
  {
   "cell_type": "code",
   "execution_count": 23,
   "metadata": {
    "collapsed": false
   },
   "outputs": [
    {
     "data": {
      "image/png": "[encoded data removed]",
      "text/plain": [
       "<matplotlib.figure.Figure at 0x114bd9e10>"
      ]
     },
     "metadata": {},
     "output_type": "display_data"
    }
   ],
   "source": [
    "# Plot the elbow\n",
    "plt.plot(K, distortions, 'bx-')\n",
    "plt.xlabel('k')\n",
    "plt.ylabel('Distortion')\n",
    "plt.title('The Elbow Method showing the optimal k')\n",
    "plt.show()"
   ]
  },
  {
   "cell_type": "code",
   "execution_count": 24,
   "metadata": {
    "collapsed": true
   },
   "outputs": [],
   "source": [
    "K = range(10,21)\n",
    "for k in K:\n",
    "    kmeanModel = KMeans(n_clusters=k).fit(X)\n",
    "    kmeanModel.fit(X)\n",
    "    distortions.append(sum(np.min(cdist(X, kmeanModel.cluster_centers_, 'euclidean'), axis=1)) / X.shape[0])"
   ]
  },
  {
   "cell_type": "code",
   "execution_count": 26,
   "metadata": {
    "collapsed": false
   },
   "outputs": [
    {
     "data": {
      "image/png": "[encoded data removed]",
      "text/plain": [
       "<matplotlib.figure.Figure at 0x114c292d0>"
      ]
     },
     "metadata": {},
     "output_type": "display_data"
    }
   ],
   "source": [
    "K = range(1,21)\n",
    "# Plot the elbow\n",
    "plt.plot(K, distortions, 'bx-')\n",
    "plt.xlabel('k')\n",
    "plt.ylabel('Distortion')\n",
    "plt.title('The Elbow Method showing the optimal k')\n",
    "plt.show()"
   ]
  },
  {
   "cell_type": "code",
   "execution_count": 31,
   "metadata": {
    "collapsed": true
   },
   "outputs": [],
   "source": [
    "def compute_bic(kmeans,X):\n",
    "    \"\"\"\n",
    "    Computes the BIC metric for a given clusters\n",
    "\n",
    "    Parameters:\n",
    "    -----------------------------------------\n",
    "    kmeans:  List of clustering object from scikit learn\n",
    "\n",
    "    X     :  multidimension np array of data points\n",
    "\n",
    "    Returns:\n",
    "    -----------------------------------------\n",
    "    BIC value\n",
    "    \"\"\"\n",
    "    # assign centers and labels\n",
    "    centers = [kmeans.cluster_centers_]\n",
    "    labels  = kmeans.labels_\n",
    "    #number of clusters\n",
    "    m = kmeans.n_clusters\n",
    "    # size of the clusters\n",
    "    n = np.bincount(labels)\n",
    "    #size of data set\n",
    "    N, d = X.shape\n",
    "\n",
    "    #compute variance for all clusters beforehand\n",
    "    cl_var = (1.0 / (N - m) / d) * sum([sum(distance.cdist(X[np.where(labels == i)], [centers[0][i]], \n",
    "             'euclidean')**2) for i in range(m)])\n",
    "\n",
    "    const_term = 0.5 * m * np.log(N) * (d+1)\n",
    "\n",
    "    BIC = np.sum([n[i] * np.log(n[i]) -\n",
    "               n[i] * np.log(N) -\n",
    "             ((n[i] * d) / 2) * np.log(2*np.pi*cl_var) -\n",
    "             ((n[i] - 1) * d/ 2) for i in range(m)]) - const_term\n",
    "\n",
    "    return(BIC)"
   ]
  },
  {
   "cell_type": "code",
   "execution_count": 32,
   "metadata": {
    "collapsed": true
   },
   "outputs": [],
   "source": [
    "ks = range(1,10)"
   ]
  },
  {
   "cell_type": "code",
   "execution_count": 34,
   "metadata": {
    "collapsed": false
   },
   "outputs": [],
   "source": [
    "from sklearn import cluster\n",
    "# run 9 times kmeans and save each result in the KMeans object\n",
    "KMeans = [cluster.KMeans(n_clusters = i, init=\"k-means++\").fit(X) for i in ks]"
   ]
  },
  {
   "cell_type": "code",
   "execution_count": 36,
   "metadata": {
    "collapsed": false
   },
   "outputs": [
    {
     "name": "stdout",
     "output_type": "stream",
     "text": [
      "[107951832.18360937, 108754948.33982249, 108957015.7111946, 108779193.93368305, 108754137.05192631, 108415113.70604557, 108367993.94004618, 108153945.9176906, 107825790.04439701]\n"
     ]
    }
   ],
   "source": [
    "from scipy.spatial import distance\n",
    "# now run for each cluster the BIC computation\n",
    "BIC = [compute_bic(kmeansi,X) for kmeansi in KMeans]\n",
    "\n",
    "print BIC"
   ]
  },
  {
   "cell_type": "code",
   "execution_count": 83,
   "metadata": {
    "collapsed": false
   },
   "outputs": [
    {
     "name": "stdout",
     "output_type": "stream",
     "text": [
      "CPU times: user 9.6 s, sys: 559 ms, total: 10.2 s\n",
      "Wall time: 9.58 s\n",
      "[7, 7, 6, 7, 7, 7, 7, 4, 6, 0, 7, 7, 7, 7, 3, 9, 5, 4, 7, 7, 3, 6, 7, 0, 6, 0, 7, 8, 3, 3, 3, 6, 7, 7, 6, 6, 7, 2, 9, 9, 9, 9, 4, 2, 2, 7, 7, 7, 7, 7, 7, 7, 4, 7, 0, 0, 5, 5, 5, 5, 5, 5, 7, 5, 7, 7, 5, 4, 7, 5, 5, 5, 5, 5, 7, 1, 1, 1, 1, 1, 1, 1, 1, 1, 1, 1, 1, 1, 1, 1, 1, 1, 1, 1, 1, 4, 7, 4, 7, 0, 6, 0, 7, 7, 7, 7, 7, 7, 7, 7, 7, 5, 4, 6, 7, 3, 6, 6, 6, 7, 7, 3, 7, 7, 7, 6, 7, 3, 3, 7, 7, 9, 9, 7, 9, 9, 2, 9, 9, 2, 9, 2, 9, 9, 6, 7, 6, 9, 6, 7, 7, 8, 6, 7, 4, 7, 7, 7, 7, 2, 7, 7, 2, 2, 2, 2, 2, 2, 2, 2, 2, 2, 2, 2, 2, 2, 2, 2, 2, 2, 2, 2, 2, 2, 2, 2, 2, 2, 2, 9, 2, 9, 9, 9, 9, 8, 6, 7, 7, 8, 9, 7, 7, 7, 7, 7, 8, 7, 7, 7, 0, 8, 0, 8, 0, 8, 8, 0, 7, 7, 8, 8, 7, 9, 2, 8, 9, 9, 8, 8, 9, 2, 7, 8, 8, 8, 8, 0, 8, 8, 5, 8, 8, 7]\n"
     ]
    }
   ],
   "source": [
    "from sklearn.cluster import KMeans\n",
    "\n",
    "num_clusters = 10\n",
    "\n",
    "km = KMeans(n_clusters=num_clusters)\n",
    "\n",
    "%time km.fit(tfidf_matrix)\n",
    "\n",
    "clusters = km.labels_.tolist()\n",
    "print(clusters)"
   ]
  },
  {
   "cell_type": "code",
   "execution_count": 84,
   "metadata": {
    "collapsed": true
   },
   "outputs": [],
   "source": [
    "from sklearn.externals import joblib"
   ]
  },
  {
   "cell_type": "code",
   "execution_count": 85,
   "metadata": {
    "collapsed": false
   },
   "outputs": [
    {
     "data": {
      "text/plain": [
       "['feed_cluster.pkl']"
      ]
     },
     "execution_count": 85,
     "metadata": {},
     "output_type": "execute_result"
    }
   ],
   "source": [
    "joblib.dump(km,  'feed_cluster.pkl')"
   ]
  },
  {
   "cell_type": "code",
   "execution_count": 86,
   "metadata": {
    "collapsed": false
   },
   "outputs": [],
   "source": [
    "#description only:\n",
    "#km = joblib.load('des_cluster.pkl')\n",
    "km = joblib.load('feed_cluster.pkl')\n",
    "clusters = km.labels_.tolist()"
   ]
  },
  {
   "cell_type": "code",
   "execution_count": 87,
   "metadata": {
    "collapsed": false
   },
   "outputs": [],
   "source": [
    "titles = df['title'].tolist()\n",
    "ranks = df['Unnamed: 0'].tolist()\n",
    "synopses = df['description'].tolist()\n",
    "articles = df['feed_article'].tolist()\n",
    "\n",
    "feeds = { 'title': titles, 'rank': ranks, 'synopsis': synopses, 'article': articles,'cluster': clusters}\n",
    "\n",
    "frame = pd.DataFrame(feeds, index = [clusters] , columns = ['rank', 'cluster', 'title', 'synopsis','article'])"
   ]
  },
  {
   "cell_type": "code",
   "execution_count": 89,
   "metadata": {
    "collapsed": false
   },
   "outputs": [
    {
     "data": {
      "text/plain": [
       "7    76\n",
       "2    37\n",
       "9    25\n",
       "8    22\n",
       "1    20\n",
       "6    18\n",
       "5    16\n",
       "0    12\n",
       "4     9\n",
       "3     9\n",
       "Name: cluster, dtype: int64"
      ]
     },
     "execution_count": 89,
     "metadata": {},
     "output_type": "execute_result"
    }
   ],
   "source": [
    "frame['cluster'].value_counts()"
   ]
  },
  {
   "cell_type": "code",
   "execution_count": 90,
   "metadata": {
    "collapsed": false
   },
   "outputs": [
    {
     "data": {
      "text/plain": [
       "cluster\n",
       "0    122.333333\n",
       "1     85.500000\n",
       "2    165.027027\n",
       "3     69.000000\n",
       "4     72.444444\n",
       "5     76.125000\n",
       "6     91.555556\n",
       "7    107.223684\n",
       "8    212.545455\n",
       "9    145.680000\n",
       "Name: rank, dtype: float64"
      ]
     },
     "execution_count": 90,
     "metadata": {},
     "output_type": "execute_result"
    }
   ],
   "source": [
    "grouped = frame['rank'].groupby(frame['cluster'])\n",
    "\n",
    "grouped.mean()"
   ]
  },
  {
   "cell_type": "code",
   "execution_count": 93,
   "metadata": {
    "collapsed": false
   },
   "outputs": [
    {
     "name": "stdout",
     "output_type": "stream",
     "text": [
      "Top terms per cluster:\n",
      "\n",
      "Cluster 0 words: obesity, court, disability, smoked, employ, said,\n",
      "\n",
      "Cluster 0 titles: South Korea bans 'pro-North' party, Obesity 'could be a disability' - EU, Dozens of Egyptian Islamists jailed, Luxembourg speaks for the Dutch, Zakiur Rehman Lakhvi's bail: India conveys its strong concerns to Pakistan, Obesity can be disability: EU court, Black 14-yr-old boy exonerated 70 yrs after execution, Obesity 'could be a disability' - EU, Car smoke ban 'to start in October', Rules for babies 'from three people', Auditors question public health spend, Could a stove save children's lives?,\n",
      "\n",
      "Cluster 1 words: badges, timesofindia.com, earn, movie, article, movie,\n",
      "\n",
      "Cluster 1 titles: India's GDP expected to grow at 5.5% in 2014-15, Sensex up 314 points on global trends, Rupee up 11 paise against dollar, Village broadband plan bound to fail, says Trai chief, JSPL gets notice on charter licence, SpiceJet�s loss is other carriers� gain, Mother Dairy's Safal brand revenue to touch Rs 60cr, Coal India to get new chairman: Sources, Govt plans multi-model transport body for goods, RBI may cut rates early next year: C Rangarajan, Rupee sees biggest gain in 7 months, Sensex surges 416 points on value buying, Gold falls by Rs 50 on sluggish demand, Gold falls by Rs 50 on sluggish demand, Use of organic fertilizers has raised farm yield: Govt, Use of organic fertilizers has raised farm yield: Govt, SBI approves OTS for mining-affected borrowers, SBI approves OTS for mining-affected borrowers, Sensex surges 294 points; banking stocks gain, Sensex surges 294 points; banking stocks gain,\n",
      "\n",
      "Cluster 2 words: browser, able, page, css, style, sheets,\n",
      "\n",
      "Cluster 2 titles: VIDEO: Mourning and rage after school attack, VIDEO: India launches largest rocket, VIDEO: Pakistan principal 'chose to stay', VIDEO: 'Easy to hack companies like Sony', VIDEO: Visiting the doctor via the internet, VIDEO: US navy develops 'fish' robot, In pictures: Life in denuded India villages, In pictures: India's Ambassador taxis, In pictures: 'Pellet guns' maim Kashmir protesters, In pictures: One year after India floods, In pictures: India's ancient city of Varanasi, In pictures: World Cup fever grips India, In pictures: Life in an Indian camp for riot-displaced, In pictures: Delhi's 'little Africa', In pictures: Life of an Indian runaway boy, In pictures: Life along Kashmir border, In pictures: Kashmiri saffron, In pictures: India in 2013, In pictures: India craze over Tendulkar farewell, In pictures: India's street children, In pictures: Restored Humayun's Tomb, In pictures: India coal fires, In pictures: Anglo-Indian community in India, In pictures: India's dying mime art, In pictures: Kashmir train link, In pictures: India flood survivors, In pictures: An Indian middle-class family, In pictures: India flood rescue operations, In pictures: India's dying telegram service, In pictures: India's 'living dead', In pictures: Indian Africans, In pictures: India's fading trams, In pictures: Indian cinema turns 100, In pictures: Rare 19th Century pictures of India, VIDEO: India launches largest rocket, VIDEO: Visiting the doctor via the internet, Booze calculator: What's your drinking nationality?,\n",
      "\n",
      "Cluster 3 words: radio, prices, apple, iag, radio, economy,\n",
      "\n",
      "Cluster 3 titles: Two US states sue over marijuana, Apple 'failing to protect workers', Thai tuna firm buys US rival, China revises up 2013 economy size, US stocks continue Fed-driven rally, Apple 'failing to protect workers', Mobile deal to reduce 'not-spots', Apple halts Russian online sales, Apple defeats $1bn case over iTunes,\n",
      "\n",
      "Cluster 4 words: cuba, cuban, obama, sarraff, castro, president,\n",
      "\n",
      "Cluster 4 titles: US Congress threat to Cuba thaw, Farc rebels declare unilateral truce, VIDEO: Reactions to thaw in Cuba-US ties, Viewpoint: Obama secures Latin legacy, Bars in Kerala can start beer and wine parlours, US Secret Service too insular, needs outside leader, more agents: Review, Crucial spy in Cuba paid a heavy Cold War price, Cubans hope for better future with US-Havana deal, Smith and Hazlewood revive Australia,\n",
      "\n",
      "Cluster 5 words: naidu, chartered, minister, court, flew, india,\n",
      "\n",
      "Cluster 5 titles: Troops sent to Mexico vigilante town, Three detained in Jabalpur for following Mehdi's twitter handle, Chartered planes still the norm with politicians, Plane truth: When netas wing it, the sky's no limit, Telangana cabinet meet today, Will take Krishna water to Rayalaseema: Chandrababu Naidu, Of?ces to shift, but Chandrababu Naidu to stay in Hyderabad, Rape-accused hurls grenade at police party in Kupwara, constable injured, Govt reconciled to insurance bill not being passed this session, Centre eases parking woes in Supreme Court, Decide Jayalalithaa�s plea in three months, SC tells HC, SC seeks answers from Centre and Maharashtra on farmers suicide, SC orders Rs 10 lakh interim compensation for the kin of Manipuri girl, Venkaiah Naidu quips, use e-ricks, reduce pollution in Parliament!, 57 terrorists killed in Pakistan air strikes, Suicide 'not always inevitable',\n",
      "\n",
      "Cluster 6 words: sony, film, attack, north, hack, korea,\n",
      "\n",
      "Cluster 6 titles: Sony hack is 'US security issue', Killing of top Taliban 'ineffective', S Korea Christians scrap border tree, Tests claim Ebosse died from beating, Balotelli gets one-match ban & fine, Morricone regrets Eastwood rejection, Italian film star Lisi dies aged 78, Washington weighs response to Sony hack; options limited, Sony cancels 'The Interview' amid terror hack threats, Minecraft maker plans spin-off game, Net overseers hit by phishing attack, Snapchat boss tearful at Sony hack, Sony movie's NY premiere cancelled, Sony Pictures hack - whodunnit?, A guide to the Sony Pictures hack, Quantum thinking: Cats to computers, Pakistan bails Mumbai attack suspect, VIDEO: Martin Sheen on new Bhopal film,\n",
      "\n",
      "Cluster 7 words: 's, said, say, people, n't, o'brien,\n",
      "\n",
      "Cluster 7 titles: Kurds 'break IS mountain siege', Eight children found dead in Cairns, EU needs 'long-term' Russia strategy, US Secret Service is too 'insular', Israel brands peace plan 'gimmick', '200 villagers' kidnapped in Nigeria, Putin seeks to ease economic fears, Carbon mission returns global maps, New record depth for deepest fish, Man finds Elizabeth Gallagher for trip, Kenyan MPs brawl over security bill, US probes $2m Uganda 'currency scam', Wilders faces charges of incitement, Women 'could join British infantry', Garcia quitting 'new low for Fifa', Vettel affected by Ricciardo pace, George III drawing is uncovered, Mosul diaries: Poisoned by water, Letter from Africa: The culture of sharing the cake, De-radicalising Sweden's neo-Nazis, Should students carry guns on campus?, How are Venezuelans coping with tumbling oil prices?, In pictures: Bangladesh oil spill clean-up, Budapest's underground escape craze, Putin's news conference: Five things we learned, Narendra Modi second in list of 30 top-performing world leaders, DIG, SPs shunted out after cops leave Gogoi alone at home, Despite doubts, Lok Sabha okays return of e-ricks to Delhi roads, Bengal will lose Rs 8200cr after GST rollout: Finance minister Amit Mitra, Lakhvi, Rawalpindi jail�s VVIP prisoner, Israel won't accept 'unilateral' Palestine bid: PM, Boston suspect makes rare court appearance, Rajapaksa asks minority Tamils to 'forget the past', EU bans investment in Crimea, targets oil sector, tourism, Australian PM says cafe siege 'horrific wake-up call', Boko Haram kills 32, kidnaps 185 in Nigeria, Boko Haram kills 32, kidnaps scores in northeastern Nigeria, Sydney hostage reveals how he planned daring escape, Sydney hostage reveals how he planned daring escape, Sydney hostage revaeals how he planned daring escape, Poll: 80 percent back Putin even as ruble falls, Mass grave of 230 killed by jihadists found in Syria, Windows browser choice system ends, Valve limits sales of Russian games, New Blackberry 'back to its roots', Google considers data risk warnings, Jeans made to block wireless signals, Glitch reveals Apprentice finalists, Microsoft rivals unite over data row, Google threatened with �12m fine, Google 2014: World Cup tops searches, Social shopping takes off in Asia, Virtual galleries open new markets for art, Thwarting retail's 'returnaholics', India launches its heaviest rocket, India tribals end 'standing protest', India SpiceJet resumes flights, In pictures: India's dying printing tradition, In pictures: Mass protests at Jadavpur University, In pictures: Deadly Kashmir floods, In pictures: India's coal miners, Africans in India: From slaves to reformers and rulers, Indian official's rage over road works becomes an online hit, Delhi drivers get lessons in respecting women, A Tamil superstar, methane and graffiti: Three things gripping South India, India's 'Banksy' behind provocative graffiti, Indian tribal protesters stand up for their rights, Why segregated housing is thriving in India, Brain's 'internal compass' found, Painkillers 'cut skin cancer risk', Autism link to air pollution raised, S Leone houses searched for Ebola, Superbug found in Rio Olympic waters, Why 361 needles are better than one, Me, my friend Pru, and our memories, How the West is cutting teen pregnancy,\n",
      "\n",
      "Cluster 8 words: patient, nhs, health, hospital, care, surgery,\n",
      "\n",
      "Cluster 8 titles: Record 500,000 started university, Gandhi in hospital after infection, VIDEO: Arrests over 'botched' eye surgeries, Atul Gawande: What ails India's public health system, 'Support vulnerable doctors' call, Drug allergy: Culprit protein found, Ill teenagers not to be held in cells, Cancer bungle 'down to incompetence', Mental health support for mothers, Cardiff surgeons' musical medicine, Huddles 'help children's hospital care', VIDEO: Hunt: NHS getting record funds, VIDEO: NHS 'over-reliant on foreign nurses', VIDEO: Fewer or more nurses in NHS today?, Why are hospitals under so much pressure?, VIDEO: A night on the SOS bus, The hidden lives of those who care, Victims of a craze for cosmetic surgery, NHS patients and private hospital referrals, Interesting NHS data no-one is looking at, NHS should welcome 'citizen whistleblowers', Phillip Hughes: How is the brain injured?,\n",
      "\n",
      "Cluster 9 words: gmt, playback, updated, media, playback, playback,\n",
      "\n",
      "Cluster 9 titles: 'Slenderman' accused to stand trial, VIDEO: CAR: Child soldier numbers 'doubles', VIDEO: Why Pakistan pupil wears bloody uniform, VIDEO: MH17 victim's father recalls last goodbye, VIDEO: Burmese 'Buddha insult' trial starts, Skype gets real-time translating tool, VIDEO: The rise of 'selfie sticks', VIDEO: TV technology for the 2020 Olympics, VIDEO: Festival celebrates indie gaming, VIDEO: DIY electronics making home 'smart', VIDEO: Testing Skype's real-time translator, VIDEO: How to pay for goods in a heartbeat, VIDEO: Inside the 'Harry Potter' church, VIDEO: MPs 'not equipped to deal with tech', VIDEO: The boy who can't forget Star Wars, VIDEO: India splashes out on art biennale, VIDEO: India's housing lottery scheme, VIDEO: 'Crisis' for India's cotton producers, VIDEO: Can yoga solve climate change?, VIDEO: Uber cabs ban after Delhi 'rape', VIDEO: Goa's fight for independence, VIDEO: Tory MP: How to save the NHS 5%, VIDEO: Smoking in cars 'harmful for children', VIDEO: New rules on 'three person babies', VIDEO: 'Why I'm having my breasts removed',\n",
      "\n"
     ]
    }
   ],
   "source": [
    "from __future__ import print_function\n",
    "\n",
    "print(\"Top terms per cluster:\")\n",
    "print()\n",
    "order_centroids = km.cluster_centers_.argsort()[:, ::-1]\n",
    "for i in range(num_clusters):\n",
    "    print(\"Cluster %d words:\" % i, end='')\n",
    "    for ind in order_centroids[i, :6]:\n",
    "        #print(' %s' % des_vocab_frame.ix[terms[ind].split(' ')].values.tolist()[0][0].encode('utf-8', 'ignore'), end=',')\n",
    "        print(' %s' % feed_vocab_frame.ix[terms[ind].split(' ')].values.tolist()[0][0].encode('utf-8', 'ignore'), end=',')\n",
    "    print()\n",
    "    print()\n",
    "    print(\"Cluster %d titles:\" % i, end='')\n",
    "    for title in frame.ix[i]['title'].values.tolist():\n",
    "        print(' %s,' % title, end='')\n",
    "    print()\n",
    "    print()"
   ]
  }
 ],
 "metadata": {
  "kernelspec": {
   "display_name": "Python 2",
   "language": "python",
   "name": "python2"
  },
  "language_info": {
   "codemirror_mode": {
    "name": "ipython",
    "version": 2
   },
   "file_extension": ".py",
   "mimetype": "text/x-python",
   "name": "python",
   "nbconvert_exporter": "python",
   "pygments_lexer": "ipython2",
   "version": "2.7.13"
  }
 },
 "nbformat": 4,
 "nbformat_minor": 2
}
