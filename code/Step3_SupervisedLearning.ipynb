{
 "cells": [
  {
   "cell_type": "code",
   "execution_count": 1,
   "metadata": {
    "collapsed": true
   },
   "outputs": [],
   "source": [
    "from nltk.corpus import reuters \n",
    " \n",
    "def collection_stats():\n",
    "    # List of documents\n",
    "    documents = reuters.fileids()\n",
    "    print(str(len(documents)) + \" documents\")\n",
    " \n",
    "    train_docs = list(filter(lambda doc: doc.startswith(\"train\"),\n",
    "                        documents))\n",
    "    \n",
    "    test_docs = list(filter(lambda doc: doc.startswith(\"test\"),\n",
    "                       documents))\n",
    "    \n",
    "    # List of categories\n",
    "    categories = reuters.categories()\n",
    "    print(str(len(categories)) + \" categories\")\n"
   ]
  },
  {
   "cell_type": "code",
   "execution_count": 2,
   "metadata": {
    "collapsed": false
   },
   "outputs": [
    {
     "name": "stdout",
     "output_type": "stream",
     "text": [
      "10788 documents\n",
      "90 categories\n"
     ]
    }
   ],
   "source": [
    "collection_stats()"
   ]
  },
  {
   "cell_type": "code",
   "execution_count": 3,
   "metadata": {
    "collapsed": true
   },
   "outputs": [],
   "source": [
    "#select 250 random documents\n",
    "rndm_reuters_fileids_train = []\n",
    "randint_train = []\n",
    "#print random.uniform(0, len(rndm_reuters_fileids))\n",
    "import numpy as np\n",
    "for i in range(0,250):\n",
    "    randint = np.random.randint(0,len(reuters.fileids()))\n",
    "    randint_train.append(randint)\n",
    "    rndm_reuters_fileids_train.append(reuters.fileids()[randint])"
   ]
  },
  {
   "cell_type": "code",
   "execution_count": 4,
   "metadata": {
    "collapsed": true
   },
   "outputs": [],
   "source": [
    "train_docs_250 = []\n",
    "for doc_id in rndm_reuters_fileids_train:\n",
    "    train_docs_250.append(reuters.raw(doc_id))"
   ]
  },
  {
   "cell_type": "code",
   "execution_count": 7,
   "metadata": {
    "collapsed": true
   },
   "outputs": [],
   "source": [
    "# here I define a tokenizer and stemmer which returns the set of stems in the text that it is passed\n",
    "from nltk.stem.snowball import SnowballStemmer\n",
    "stemmer = SnowballStemmer(\"english\", ignore_stopwords=True)\n",
    "import re\n",
    "def tokenize_and_stem(text):\n",
    "    # first tokenize by sentence, then by word to ensure that punctuation is caught as it's own token\n",
    "    tokens = [word for sent in nltk.sent_tokenize(text) for word in nltk.word_tokenize(sent)]\n",
    "    filtered_tokens = []\n",
    "    # filter out any tokens not containing letters (e.g., numeric tokens, raw punctuation)\n",
    "    for token in tokens:\n",
    "        if re.search('[a-zA-Z]', token):\n",
    "            filtered_tokens.append(token)\n",
    "    stems = [stemmer.stem(t) for t in filtered_tokens]\n",
    "    return stems"
   ]
  },
  {
   "cell_type": "code",
   "execution_count": 8,
   "metadata": {
    "collapsed": false
   },
   "outputs": [],
   "source": [
    "from sklearn.feature_extraction.text import TfidfVectorizer\n",
    "\n",
    "tfidf = TfidfVectorizer(tokenizer=tokenize_and_stem, min_df=0.01,\n",
    "                        max_df=0.90, max_features=3000,\n",
    "                        use_idf=True, sublinear_tf=True,\n",
    "                        norm='l2');"
   ]
  },
  {
   "cell_type": "code",
   "execution_count": 11,
   "metadata": {
    "collapsed": false
   },
   "outputs": [],
   "source": [
    "import nltk\n",
    "vectorised_train_documents_250 = tfidf.fit_transform(train_docs_250)"
   ]
  },
  {
   "cell_type": "code",
   "execution_count": 12,
   "metadata": {
    "collapsed": true
   },
   "outputs": [],
   "source": [
    "from sklearn.metrics.pairwise import cosine_similarity\n",
    "X = 1 - cosine_similarity(vectorised_train_documents_250)"
   ]
  },
  {
   "cell_type": "code",
   "execution_count": 13,
   "metadata": {
    "collapsed": false
   },
   "outputs": [
    {
     "name": "stdout",
     "output_type": "stream",
     "text": [
      "('Damping: ', 0.5)\n",
      "Estimated number of clusters: 28\n",
      "Silhouette Coefficient: 0.182\n",
      "Calinski_Harabaz Coefficient: 27.210\n",
      "('Damping: ', 0.55000000000000004)\n",
      "Estimated number of clusters: 28\n",
      "Silhouette Coefficient: 0.182\n",
      "Calinski_Harabaz Coefficient: 27.210\n",
      "('Damping: ', 0.60000000000000009)\n",
      "Estimated number of clusters: 28\n",
      "Silhouette Coefficient: 0.182\n",
      "Calinski_Harabaz Coefficient: 27.210\n",
      "('Damping: ', 0.65000000000000013)\n",
      "Estimated number of clusters: 28\n",
      "Silhouette Coefficient: 0.182\n",
      "Calinski_Harabaz Coefficient: 27.210\n",
      "('Damping: ', 0.70000000000000018)\n",
      "Estimated number of clusters: 28\n",
      "Silhouette Coefficient: 0.182\n",
      "Calinski_Harabaz Coefficient: 27.210\n",
      "('Damping: ', 0.75000000000000022)\n",
      "Estimated number of clusters: 28\n",
      "Silhouette Coefficient: 0.182\n",
      "Calinski_Harabaz Coefficient: 27.210\n",
      "('Damping: ', 0.80000000000000027)\n",
      "Estimated number of clusters: 28\n",
      "Silhouette Coefficient: 0.182\n",
      "Calinski_Harabaz Coefficient: 27.210\n",
      "('Damping: ', 0.85000000000000031)\n",
      "Estimated number of clusters: 28\n",
      "Silhouette Coefficient: 0.182\n",
      "Calinski_Harabaz Coefficient: 27.210\n",
      "('Damping: ', 0.90000000000000036)\n",
      "Estimated number of clusters: 27\n",
      "Silhouette Coefficient: 0.179\n",
      "Calinski_Harabaz Coefficient: 27.910\n",
      "('Damping: ', 0.9500000000000004)\n",
      "Estimated number of clusters: 27\n",
      "Silhouette Coefficient: 0.179\n",
      "Calinski_Harabaz Coefficient: 27.910\n"
     ]
    }
   ],
   "source": [
    "from sklearn.cluster import AffinityPropagation\n",
    "from sklearn import metrics\n",
    "\n",
    "# Compute Affinity Propagation\n",
    "for damp in np.arange(0.5,1.0,0.05):\n",
    "    af = AffinityPropagation(damping=damp).fit(X)\n",
    "    cluster_centers_indices = af.cluster_centers_indices_\n",
    "    labels = af.labels_\n",
    "\n",
    "    n_clusters_ = len(cluster_centers_indices)\n",
    "    print('Damping: ',damp)\n",
    "    print('Estimated number of clusters: %d' % n_clusters_)\n",
    "    print(\"Silhouette Coefficient: %0.3f\"\n",
    "        % metrics.silhouette_score(X, labels, metric='cosine'))\n",
    "    print(\"Calinski_Harabaz Coefficient: %0.3f\"\n",
    "        % metrics.calinski_harabaz_score(X, labels))"
   ]
  }
 ],
 "metadata": {
  "kernelspec": {
   "display_name": "Python 2",
   "language": "python",
   "name": "python2"
  },
  "language_info": {
   "codemirror_mode": {
    "name": "ipython",
    "version": 2
   },
   "file_extension": ".py",
   "mimetype": "text/x-python",
   "name": "python",
   "nbconvert_exporter": "python",
   "pygments_lexer": "ipython2",
   "version": "2.7.13"
  }
 },
 "nbformat": 4,
 "nbformat_minor": 2
}
